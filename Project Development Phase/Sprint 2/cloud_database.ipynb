{
  "nbformat": 4,
  "nbformat_minor": 0,
  "metadata": {
    "colab": {
      "provenance": [],
      "collapsed_sections": []
    },
    "kernelspec": {
      "name": "python3",
      "display_name": "Python 3"
    },
    "language_info": {
      "name": "python"
    }
  },
  "cells": [
    {
      "cell_type": "code",
      "execution_count": 1,
      "metadata": {
        "colab": {
          "base_uri": "https://localhost:8080/"
        },
        "id": "Q7zNU4HlOOR3",
        "outputId": "5385827c-6890-4b17-dcb2-5225ac83b4f8"
      },
      "outputs": [
        {
          "output_type": "stream",
          "name": "stdout",
          "text": [
            "Looking in indexes: https://pypi.org/simple, https://us-python.pkg.dev/colab-wheels/public/simple/\n",
            "Collecting cloudant\n",
            "  Downloading cloudant-2.15.0-py3-none-any.whl (80 kB)\n",
            "\u001b[K     |████████████████████████████████| 80 kB 6.3 MB/s \n",
            "\u001b[?25hRequirement already satisfied: requests<3.0.0,>=2.7.0 in /usr/local/lib/python3.7/dist-packages (from cloudant) (2.23.0)\n",
            "Requirement already satisfied: certifi>=2017.4.17 in /usr/local/lib/python3.7/dist-packages (from requests<3.0.0,>=2.7.0->cloudant) (2022.9.24)\n",
            "Requirement already satisfied: idna<3,>=2.5 in /usr/local/lib/python3.7/dist-packages (from requests<3.0.0,>=2.7.0->cloudant) (2.10)\n",
            "Requirement already satisfied: chardet<4,>=3.0.2 in /usr/local/lib/python3.7/dist-packages (from requests<3.0.0,>=2.7.0->cloudant) (3.0.4)\n",
            "Requirement already satisfied: urllib3!=1.25.0,!=1.25.1,<1.26,>=1.21.1 in /usr/local/lib/python3.7/dist-packages (from requests<3.0.0,>=2.7.0->cloudant) (1.24.3)\n",
            "Installing collected packages: cloudant\n",
            "Successfully installed cloudant-2.15.0\n"
          ]
        }
      ],
      "source": [
        "pip install cloudant"
      ]
    },
    {
      "cell_type": "code",
      "source": [
        "from cloudant.client import Cloudant\n"
      ],
      "metadata": {
        "id": "0d5jBjO7OfET"
      },
      "execution_count": 2,
      "outputs": []
    },
    {
      "cell_type": "code",
      "source": [
        "client=Cloudant.iam('0f5ab837-7e5c-486c-a220-5256e075616c-bluemix','0UGpqPnFUGkN6XC93fLwLujtajQ7wWmOVf7HGB2z2gqX',connect=True)"
      ],
      "metadata": {
        "id": "JTLaKJBKOpyb"
      },
      "execution_count": 6,
      "outputs": []
    },
    {
      "cell_type": "code",
      "source": [
        "my_database=client.create_database('my_database')"
      ],
      "metadata": {
        "id": "Oo9UsVKIQYFs"
      },
      "execution_count": 7,
      "outputs": []
    }
  ]
}